{
 "cells": [
  {
   "cell_type": "code",
   "execution_count": 3,
   "id": "8a031ff1",
   "metadata": {},
   "outputs": [],
   "source": [
    "import pandas as pd\n",
    "import numpy as np\n",
    "import warnings\n",
    "warnings.filterwarnings('ignore')"
   ]
  },
  {
   "cell_type": "code",
   "execution_count": 4,
   "id": "c9b70942",
   "metadata": {},
   "outputs": [
    {
     "data": {
      "text/html": [
       "<div>\n",
       "<style scoped>\n",
       "    .dataframe tbody tr th:only-of-type {\n",
       "        vertical-align: middle;\n",
       "    }\n",
       "\n",
       "    .dataframe tbody tr th {\n",
       "        vertical-align: top;\n",
       "    }\n",
       "\n",
       "    .dataframe thead th {\n",
       "        text-align: right;\n",
       "    }\n",
       "</style>\n",
       "<table border=\"1\" class=\"dataframe\">\n",
       "  <thead>\n",
       "    <tr style=\"text-align: right;\">\n",
       "      <th></th>\n",
       "      <th>Date</th>\n",
       "      <th>Fridge</th>\n",
       "      <th>AC</th>\n",
       "      <th>Voltage</th>\n",
       "      <th>Kitchen Appliances</th>\n",
       "      <th>Other Appliances</th>\n",
       "      <th>Sub_metering_3</th>\n",
       "      <th>month</th>\n",
       "      <th>year</th>\n",
       "      <th>Total_Consumption</th>\n",
       "      <th>day</th>\n",
       "      <th>Washing Machine</th>\n",
       "      <th>kap_zscore</th>\n",
       "      <th>fridge_zscore</th>\n",
       "      <th>ac_zscore</th>\n",
       "      <th>oap_zscore</th>\n",
       "      <th>wm_zscore</th>\n",
       "    </tr>\n",
       "  </thead>\n",
       "  <tbody>\n",
       "    <tr>\n",
       "      <th>0</th>\n",
       "      <td>2021-01-01</td>\n",
       "      <td>1224.252</td>\n",
       "      <td>0.0</td>\n",
       "      <td>349294.64</td>\n",
       "      <td>3869.148</td>\n",
       "      <td>327.0</td>\n",
       "      <td>3558.0</td>\n",
       "      <td>1</td>\n",
       "      <td>2020</td>\n",
       "      <td>7.7</td>\n",
       "      <td>1</td>\n",
       "      <td>2304.0</td>\n",
       "      <td>NaN</td>\n",
       "      <td>NaN</td>\n",
       "      <td>NaN</td>\n",
       "      <td>NaN</td>\n",
       "      <td>NaN</td>\n",
       "    </tr>\n",
       "    <tr>\n",
       "      <th>1</th>\n",
       "      <td>2021-01-02</td>\n",
       "      <td>1693.778</td>\n",
       "      <td>0.0</td>\n",
       "      <td>350829.71</td>\n",
       "      <td>5301.422</td>\n",
       "      <td>367.0</td>\n",
       "      <td>14623.0</td>\n",
       "      <td>1</td>\n",
       "      <td>2020</td>\n",
       "      <td>8.5</td>\n",
       "      <td>2</td>\n",
       "      <td>1111.0</td>\n",
       "      <td>NaN</td>\n",
       "      <td>NaN</td>\n",
       "      <td>NaN</td>\n",
       "      <td>NaN</td>\n",
       "      <td>NaN</td>\n",
       "    </tr>\n",
       "  </tbody>\n",
       "</table>\n",
       "</div>"
      ],
      "text/plain": [
       "        Date    Fridge   AC    Voltage  Kitchen Appliances  Other Appliances  \\\n",
       "0 2021-01-01  1224.252  0.0  349294.64            3869.148             327.0   \n",
       "1 2021-01-02  1693.778  0.0  350829.71            5301.422             367.0   \n",
       "\n",
       "   Sub_metering_3  month  year  Total_Consumption  day  Washing Machine  \\\n",
       "0          3558.0      1  2020                7.7    1           2304.0   \n",
       "1         14623.0      1  2020                8.5    2           1111.0   \n",
       "\n",
       "   kap_zscore  fridge_zscore  ac_zscore  oap_zscore  wm_zscore  \n",
       "0         NaN            NaN        NaN         NaN        NaN  \n",
       "1         NaN            NaN        NaN         NaN        NaN  "
      ]
     },
     "execution_count": 4,
     "metadata": {},
     "output_type": "execute_result"
    }
   ],
   "source": [
    "df1 = pd.read_csv(r'D:\\E drive\\MCA\\2nd Sem\\It workshop II\\Optimizing-Household-Electricity-through-Machine-Learning-main\\Datasets\\electricity_appliance_wise_data.csv')\n",
    "df1['Date'] = pd.to_datetime(df1['Date'])\n",
    "df1 = df1[df1['Date'].dt.year == 2021]\n",
    "df1.reset_index(drop=True, inplace=True)\n",
    "df1.head(2)"
   ]
  },
  {
   "cell_type": "code",
   "execution_count": 3,
   "id": "f1efe907",
   "metadata": {},
   "outputs": [],
   "source": [
    "def zscore(x, window):\n",
    "    r = x.rolling(window=window)\n",
    "    m = r.mean().shift(1)\n",
    "    s = r.std(ddof=0).shift(1)\n",
    "    z = (x-m)/s\n",
    "    return z"
   ]
  },
  {
   "cell_type": "code",
   "execution_count": 6,
   "id": "5aac7a30",
   "metadata": {},
   "outputs": [
    {
     "name": "stdout",
     "output_type": "stream",
     "text": [
      "            Fridge  Kitchen Appliances           AC  Other Appliances  \\\n",
      "count   203.000000          203.000000   203.000000        203.000000   \n",
      "mean   1525.037537         4907.779212  2933.758966       1594.171084   \n",
      "std     498.982172         1554.741228  2180.702038       1933.680636   \n",
      "min     131.732000          417.868000     0.000000          1.980000   \n",
      "25%    1194.854000         3894.657000     0.000000        473.100000   \n",
      "50%    1542.650000         4980.886000  3106.230000        637.230000   \n",
      "75%    1816.058000         5879.900000  4328.915000       2171.100000   \n",
      "max    2903.014000         9149.786000  8067.900000      11165.650000   \n",
      "\n",
      "       Washing Machine  \n",
      "count       203.000000  \n",
      "mean       2000.251232  \n",
      "std        3334.395082  \n",
      "min           0.000000  \n",
      "25%          10.500000  \n",
      "50%        1078.000000  \n",
      "75%        2123.500000  \n",
      "max       20000.000000  \n",
      "Date                   0\n",
      "Fridge                 0\n",
      "AC                     0\n",
      "Voltage                0\n",
      "Kitchen Appliances     0\n",
      "Other Appliances       0\n",
      "Sub_metering_3         0\n",
      "month                  0\n",
      "year                   0\n",
      "Total_Consumption      0\n",
      "day                    0\n",
      "Washing Machine        0\n",
      "kap_zscore            30\n",
      "fridge_zscore         30\n",
      "ac_zscore             56\n",
      "oap_zscore            30\n",
      "wm_zscore              4\n",
      "dtype: int64\n"
     ]
    }
   ],
   "source": [
    "print(df1[['Fridge', 'Kitchen Appliances', 'AC', 'Other Appliances', 'Washing Machine']].describe())\n",
    "print(df1.isnull().sum())  # Check for missing or invalid data\n"
   ]
  },
  {
   "cell_type": "code",
   "execution_count": 8,
   "id": "3ce12676",
   "metadata": {},
   "outputs": [],
   "source": [
    "df1.fillna(0, inplace=True)  # Replace missing values with 0\n"
   ]
  },
  {
   "cell_type": "code",
   "execution_count": 4,
   "id": "1eddc0c2",
   "metadata": {},
   "outputs": [],
   "source": [
    "df1['kap_zscore'] = zscore(df1['Kitchen Appliances'], 30)\n",
    "df1['fridge_zscore'] = zscore(df1['Fridge'], 30)\n",
    "df1['ac_zscore'] = zscore(df1['AC'], 30)\n",
    "df1['oap_zscore'] = zscore(df1['Other Appliances'], 30)\n",
    "df1['wm_zscore'] = zscore(df1['Washing Machine'], 3)"
   ]
  },
  {
   "cell_type": "code",
   "execution_count": 5,
   "id": "9ba05d4f",
   "metadata": {
    "scrolled": true
   },
   "outputs": [
    {
     "data": {
      "text/html": [
       "<div>\n",
       "<style scoped>\n",
       "    .dataframe tbody tr th:only-of-type {\n",
       "        vertical-align: middle;\n",
       "    }\n",
       "\n",
       "    .dataframe tbody tr th {\n",
       "        vertical-align: top;\n",
       "    }\n",
       "\n",
       "    .dataframe thead th {\n",
       "        text-align: right;\n",
       "    }\n",
       "</style>\n",
       "<table border=\"1\" class=\"dataframe\">\n",
       "  <thead>\n",
       "    <tr style=\"text-align: right;\">\n",
       "      <th></th>\n",
       "      <th>Date</th>\n",
       "      <th>Fridge</th>\n",
       "      <th>AC</th>\n",
       "      <th>Voltage</th>\n",
       "      <th>Kitchen Appliances</th>\n",
       "      <th>Other Appliances</th>\n",
       "      <th>Sub_metering_3</th>\n",
       "      <th>month</th>\n",
       "      <th>year</th>\n",
       "      <th>Total_Consumption</th>\n",
       "      <th>day</th>\n",
       "      <th>Washing Machine</th>\n",
       "      <th>kap_zscore</th>\n",
       "      <th>fridge_zscore</th>\n",
       "      <th>ac_zscore</th>\n",
       "      <th>oap_zscore</th>\n",
       "      <th>wm_zscore</th>\n",
       "    </tr>\n",
       "  </thead>\n",
       "  <tbody>\n",
       "  </tbody>\n",
       "</table>\n",
       "</div>"
      ],
      "text/plain": [
       "Empty DataFrame\n",
       "Columns: [Date, Fridge, AC, Voltage, Kitchen Appliances, Other Appliances, Sub_metering_3, month, year, Total_Consumption, day, Washing Machine, kap_zscore, fridge_zscore, ac_zscore, oap_zscore, wm_zscore]\n",
       "Index: []"
      ]
     },
     "execution_count": 5,
     "metadata": {},
     "output_type": "execute_result"
    }
   ],
   "source": [
    "df1[df1['kap_zscore'] > 5]"
   ]
  },
  {
   "cell_type": "code",
   "execution_count": 6,
   "id": "28e7d2ef",
   "metadata": {
    "scrolled": true
   },
   "outputs": [
    {
     "data": {
      "text/html": [
       "<div>\n",
       "<style scoped>\n",
       "    .dataframe tbody tr th:only-of-type {\n",
       "        vertical-align: middle;\n",
       "    }\n",
       "\n",
       "    .dataframe tbody tr th {\n",
       "        vertical-align: top;\n",
       "    }\n",
       "\n",
       "    .dataframe thead th {\n",
       "        text-align: right;\n",
       "    }\n",
       "</style>\n",
       "<table border=\"1\" class=\"dataframe\">\n",
       "  <thead>\n",
       "    <tr style=\"text-align: right;\">\n",
       "      <th></th>\n",
       "      <th>Date</th>\n",
       "      <th>Fridge</th>\n",
       "      <th>AC</th>\n",
       "      <th>Voltage</th>\n",
       "      <th>Kitchen Appliances</th>\n",
       "      <th>Other Appliances</th>\n",
       "      <th>Sub_metering_3</th>\n",
       "      <th>month</th>\n",
       "      <th>year</th>\n",
       "      <th>Total_Consumption</th>\n",
       "      <th>day</th>\n",
       "      <th>Washing Machine</th>\n",
       "      <th>kap_zscore</th>\n",
       "      <th>fridge_zscore</th>\n",
       "      <th>ac_zscore</th>\n",
       "      <th>oap_zscore</th>\n",
       "      <th>wm_zscore</th>\n",
       "    </tr>\n",
       "  </thead>\n",
       "  <tbody>\n",
       "  </tbody>\n",
       "</table>\n",
       "</div>"
      ],
      "text/plain": [
       "Empty DataFrame\n",
       "Columns: [Date, Fridge, AC, Voltage, Kitchen Appliances, Other Appliances, Sub_metering_3, month, year, Total_Consumption, day, Washing Machine, kap_zscore, fridge_zscore, ac_zscore, oap_zscore, wm_zscore]\n",
       "Index: []"
      ]
     },
     "execution_count": 6,
     "metadata": {},
     "output_type": "execute_result"
    }
   ],
   "source": [
    "df1[df1['fridge_zscore'] > 5]"
   ]
  },
  {
   "cell_type": "code",
   "execution_count": 7,
   "id": "4c1776bb",
   "metadata": {
    "scrolled": true
   },
   "outputs": [
    {
     "data": {
      "text/html": [
       "<div>\n",
       "<style scoped>\n",
       "    .dataframe tbody tr th:only-of-type {\n",
       "        vertical-align: middle;\n",
       "    }\n",
       "\n",
       "    .dataframe tbody tr th {\n",
       "        vertical-align: top;\n",
       "    }\n",
       "\n",
       "    .dataframe thead th {\n",
       "        text-align: right;\n",
       "    }\n",
       "</style>\n",
       "<table border=\"1\" class=\"dataframe\">\n",
       "  <thead>\n",
       "    <tr style=\"text-align: right;\">\n",
       "      <th></th>\n",
       "      <th>Date</th>\n",
       "      <th>Fridge</th>\n",
       "      <th>AC</th>\n",
       "      <th>Voltage</th>\n",
       "      <th>Kitchen Appliances</th>\n",
       "      <th>Other Appliances</th>\n",
       "      <th>Sub_metering_3</th>\n",
       "      <th>month</th>\n",
       "      <th>year</th>\n",
       "      <th>Total_Consumption</th>\n",
       "      <th>day</th>\n",
       "      <th>Washing Machine</th>\n",
       "      <th>kap_zscore</th>\n",
       "      <th>fridge_zscore</th>\n",
       "      <th>ac_zscore</th>\n",
       "      <th>oap_zscore</th>\n",
       "      <th>wm_zscore</th>\n",
       "    </tr>\n",
       "  </thead>\n",
       "  <tbody>\n",
       "    <tr>\n",
       "      <th>56</th>\n",
       "      <td>2021-03-01</td>\n",
       "      <td>2083.454</td>\n",
       "      <td>2874.15</td>\n",
       "      <td>350992.12</td>\n",
       "      <td>6620.146</td>\n",
       "      <td>4880.25</td>\n",
       "      <td>10074.0</td>\n",
       "      <td>3</td>\n",
       "      <td>2020</td>\n",
       "      <td>60.9</td>\n",
       "      <td>1</td>\n",
       "      <td>3842.0</td>\n",
       "      <td>0.673283</td>\n",
       "      <td>0.663654</td>\n",
       "      <td>inf</td>\n",
       "      <td>1.216211</td>\n",
       "      <td>1.412839</td>\n",
       "    </tr>\n",
       "    <tr>\n",
       "      <th>57</th>\n",
       "      <td>2021-03-02</td>\n",
       "      <td>2903.014</td>\n",
       "      <td>2755.38</td>\n",
       "      <td>349038.83</td>\n",
       "      <td>9149.786</td>\n",
       "      <td>8457.82</td>\n",
       "      <td>21130.0</td>\n",
       "      <td>3</td>\n",
       "      <td>2020</td>\n",
       "      <td>76.5</td>\n",
       "      <td>2</td>\n",
       "      <td>2234.0</td>\n",
       "      <td>2.160376</td>\n",
       "      <td>2.180478</td>\n",
       "      <td>5.154957</td>\n",
       "      <td>2.557031</td>\n",
       "      <td>-0.164592</td>\n",
       "    </tr>\n",
       "  </tbody>\n",
       "</table>\n",
       "</div>"
      ],
      "text/plain": [
       "         Date    Fridge       AC    Voltage  Kitchen Appliances  \\\n",
       "56 2021-03-01  2083.454  2874.15  350992.12            6620.146   \n",
       "57 2021-03-02  2903.014  2755.38  349038.83            9149.786   \n",
       "\n",
       "    Other Appliances  Sub_metering_3  month  year  Total_Consumption  day  \\\n",
       "56           4880.25         10074.0      3  2020               60.9    1   \n",
       "57           8457.82         21130.0      3  2020               76.5    2   \n",
       "\n",
       "    Washing Machine  kap_zscore  fridge_zscore  ac_zscore  oap_zscore  \\\n",
       "56           3842.0    0.673283       0.663654        inf    1.216211   \n",
       "57           2234.0    2.160376       2.180478   5.154957    2.557031   \n",
       "\n",
       "    wm_zscore  \n",
       "56   1.412839  \n",
       "57  -0.164592  "
      ]
     },
     "execution_count": 7,
     "metadata": {},
     "output_type": "execute_result"
    }
   ],
   "source": [
    "df1[df1['ac_zscore'] > 5]"
   ]
  },
  {
   "cell_type": "code",
   "execution_count": 8,
   "id": "9fdcee87",
   "metadata": {
    "scrolled": true
   },
   "outputs": [
    {
     "data": {
      "text/html": [
       "<div>\n",
       "<style scoped>\n",
       "    .dataframe tbody tr th:only-of-type {\n",
       "        vertical-align: middle;\n",
       "    }\n",
       "\n",
       "    .dataframe tbody tr th {\n",
       "        vertical-align: top;\n",
       "    }\n",
       "\n",
       "    .dataframe thead th {\n",
       "        text-align: right;\n",
       "    }\n",
       "</style>\n",
       "<table border=\"1\" class=\"dataframe\">\n",
       "  <thead>\n",
       "    <tr style=\"text-align: right;\">\n",
       "      <th></th>\n",
       "      <th>Date</th>\n",
       "      <th>Fridge</th>\n",
       "      <th>AC</th>\n",
       "      <th>Voltage</th>\n",
       "      <th>Kitchen Appliances</th>\n",
       "      <th>Other Appliances</th>\n",
       "      <th>Sub_metering_3</th>\n",
       "      <th>month</th>\n",
       "      <th>year</th>\n",
       "      <th>Total_Consumption</th>\n",
       "      <th>day</th>\n",
       "      <th>Washing Machine</th>\n",
       "      <th>kap_zscore</th>\n",
       "      <th>fridge_zscore</th>\n",
       "      <th>ac_zscore</th>\n",
       "      <th>oap_zscore</th>\n",
       "      <th>wm_zscore</th>\n",
       "    </tr>\n",
       "  </thead>\n",
       "  <tbody>\n",
       "  </tbody>\n",
       "</table>\n",
       "</div>"
      ],
      "text/plain": [
       "Empty DataFrame\n",
       "Columns: [Date, Fridge, AC, Voltage, Kitchen Appliances, Other Appliances, Sub_metering_3, month, year, Total_Consumption, day, Washing Machine, kap_zscore, fridge_zscore, ac_zscore, oap_zscore, wm_zscore]\n",
       "Index: []"
      ]
     },
     "execution_count": 8,
     "metadata": {},
     "output_type": "execute_result"
    }
   ],
   "source": [
    "df1[df1['oap_zscore'] > 5]"
   ]
  },
  {
   "cell_type": "code",
   "execution_count": 9,
   "id": "85239513",
   "metadata": {
    "scrolled": true
   },
   "outputs": [
    {
     "data": {
      "text/html": [
       "<div>\n",
       "<style scoped>\n",
       "    .dataframe tbody tr th:only-of-type {\n",
       "        vertical-align: middle;\n",
       "    }\n",
       "\n",
       "    .dataframe tbody tr th {\n",
       "        vertical-align: top;\n",
       "    }\n",
       "\n",
       "    .dataframe thead th {\n",
       "        text-align: right;\n",
       "    }\n",
       "</style>\n",
       "<table border=\"1\" class=\"dataframe\">\n",
       "  <thead>\n",
       "    <tr style=\"text-align: right;\">\n",
       "      <th></th>\n",
       "      <th>Date</th>\n",
       "      <th>Fridge</th>\n",
       "      <th>AC</th>\n",
       "      <th>Voltage</th>\n",
       "      <th>Kitchen Appliances</th>\n",
       "      <th>Other Appliances</th>\n",
       "      <th>Sub_metering_3</th>\n",
       "      <th>month</th>\n",
       "      <th>year</th>\n",
       "      <th>Total_Consumption</th>\n",
       "      <th>day</th>\n",
       "      <th>Washing Machine</th>\n",
       "      <th>kap_zscore</th>\n",
       "      <th>fridge_zscore</th>\n",
       "      <th>ac_zscore</th>\n",
       "      <th>oap_zscore</th>\n",
       "      <th>wm_zscore</th>\n",
       "    </tr>\n",
       "  </thead>\n",
       "  <tbody>\n",
       "    <tr>\n",
       "      <th>8</th>\n",
       "      <td>2021-01-09</td>\n",
       "      <td>1593.318</td>\n",
       "      <td>0.00</td>\n",
       "      <td>347418.49</td>\n",
       "      <td>5162.682</td>\n",
       "      <td>1194.00</td>\n",
       "      <td>13990.0</td>\n",
       "      <td>1</td>\n",
       "      <td>2020</td>\n",
       "      <td>9.9</td>\n",
       "      <td>9</td>\n",
       "      <td>1947.0</td>\n",
       "      <td>NaN</td>\n",
       "      <td>NaN</td>\n",
       "      <td>NaN</td>\n",
       "      <td>NaN</td>\n",
       "      <td>3.046567</td>\n",
       "    </tr>\n",
       "    <tr>\n",
       "      <th>27</th>\n",
       "      <td>2021-01-30</td>\n",
       "      <td>2842.728</td>\n",
       "      <td>0.00</td>\n",
       "      <td>348594.33</td>\n",
       "      <td>9119.672</td>\n",
       "      <td>7544.00</td>\n",
       "      <td>17891.0</td>\n",
       "      <td>1</td>\n",
       "      <td>2020</td>\n",
       "      <td>22.7</td>\n",
       "      <td>30</td>\n",
       "      <td>3240.0</td>\n",
       "      <td>NaN</td>\n",
       "      <td>NaN</td>\n",
       "      <td>NaN</td>\n",
       "      <td>NaN</td>\n",
       "      <td>5.342202</td>\n",
       "    </tr>\n",
       "    <tr>\n",
       "      <th>33</th>\n",
       "      <td>2021-02-05</td>\n",
       "      <td>2187.910</td>\n",
       "      <td>0.00</td>\n",
       "      <td>346159.08</td>\n",
       "      <td>7060.490</td>\n",
       "      <td>7966.00</td>\n",
       "      <td>14454.0</td>\n",
       "      <td>2</td>\n",
       "      <td>2020</td>\n",
       "      <td>19.1</td>\n",
       "      <td>5</td>\n",
       "      <td>1858.0</td>\n",
       "      <td>0.727257</td>\n",
       "      <td>0.653262</td>\n",
       "      <td>NaN</td>\n",
       "      <td>3.378153</td>\n",
       "      <td>inf</td>\n",
       "    </tr>\n",
       "    <tr>\n",
       "      <th>38</th>\n",
       "      <td>2021-02-10</td>\n",
       "      <td>1923.254</td>\n",
       "      <td>0.00</td>\n",
       "      <td>346612.98</td>\n",
       "      <td>6118.146</td>\n",
       "      <td>741.00</td>\n",
       "      <td>13532.0</td>\n",
       "      <td>2</td>\n",
       "      <td>2020</td>\n",
       "      <td>12.8</td>\n",
       "      <td>10</td>\n",
       "      <td>3972.0</td>\n",
       "      <td>0.184626</td>\n",
       "      <td>0.177368</td>\n",
       "      <td>NaN</td>\n",
       "      <td>-0.431927</td>\n",
       "      <td>8.164266</td>\n",
       "    </tr>\n",
       "    <tr>\n",
       "      <th>42</th>\n",
       "      <td>2021-02-15</td>\n",
       "      <td>2097.132</td>\n",
       "      <td>0.00</td>\n",
       "      <td>350563.36</td>\n",
       "      <td>6603.868</td>\n",
       "      <td>332.00</td>\n",
       "      <td>16065.0</td>\n",
       "      <td>2</td>\n",
       "      <td>2020</td>\n",
       "      <td>12.5</td>\n",
       "      <td>15</td>\n",
       "      <td>3468.0</td>\n",
       "      <td>0.356957</td>\n",
       "      <td>0.379214</td>\n",
       "      <td>NaN</td>\n",
       "      <td>-0.662260</td>\n",
       "      <td>3.204077</td>\n",
       "    </tr>\n",
       "    <tr>\n",
       "      <th>47</th>\n",
       "      <td>2021-02-20</td>\n",
       "      <td>1983.728</td>\n",
       "      <td>0.00</td>\n",
       "      <td>348176.11</td>\n",
       "      <td>6289.872</td>\n",
       "      <td>382.00</td>\n",
       "      <td>14470.0</td>\n",
       "      <td>2</td>\n",
       "      <td>2020</td>\n",
       "      <td>12.4</td>\n",
       "      <td>20</td>\n",
       "      <td>3748.0</td>\n",
       "      <td>0.237051</td>\n",
       "      <td>0.233801</td>\n",
       "      <td>NaN</td>\n",
       "      <td>-0.613829</td>\n",
       "      <td>3.308385</td>\n",
       "    </tr>\n",
       "    <tr>\n",
       "      <th>48</th>\n",
       "      <td>2021-02-21</td>\n",
       "      <td>2740.314</td>\n",
       "      <td>0.00</td>\n",
       "      <td>346500.54</td>\n",
       "      <td>8834.886</td>\n",
       "      <td>8142.00</td>\n",
       "      <td>17083.0</td>\n",
       "      <td>2</td>\n",
       "      <td>2020</td>\n",
       "      <td>25.6</td>\n",
       "      <td>21</td>\n",
       "      <td>5905.0</td>\n",
       "      <td>1.786216</td>\n",
       "      <td>1.675543</td>\n",
       "      <td>NaN</td>\n",
       "      <td>2.660617</td>\n",
       "      <td>3.176719</td>\n",
       "    </tr>\n",
       "    <tr>\n",
       "      <th>65</th>\n",
       "      <td>2021-03-10</td>\n",
       "      <td>1830.684</td>\n",
       "      <td>3042.21</td>\n",
       "      <td>348383.29</td>\n",
       "      <td>5943.116</td>\n",
       "      <td>2583.99</td>\n",
       "      <td>7738.0</td>\n",
       "      <td>3</td>\n",
       "      <td>2020</td>\n",
       "      <td>55.2</td>\n",
       "      <td>10</td>\n",
       "      <td>5000.0</td>\n",
       "      <td>0.391759</td>\n",
       "      <td>0.321174</td>\n",
       "      <td>1.631128</td>\n",
       "      <td>0.337466</td>\n",
       "      <td>10.576512</td>\n",
       "    </tr>\n",
       "    <tr>\n",
       "      <th>96</th>\n",
       "      <td>2021-04-11</td>\n",
       "      <td>2555.146</td>\n",
       "      <td>6310.95</td>\n",
       "      <td>350139.21</td>\n",
       "      <td>8239.254</td>\n",
       "      <td>11165.65</td>\n",
       "      <td>10286.0</td>\n",
       "      <td>4</td>\n",
       "      <td>2020</td>\n",
       "      <td>102.9</td>\n",
       "      <td>11</td>\n",
       "      <td>6029.0</td>\n",
       "      <td>2.126852</td>\n",
       "      <td>2.063797</td>\n",
       "      <td>2.247089</td>\n",
       "      <td>4.357294</td>\n",
       "      <td>4.248514</td>\n",
       "    </tr>\n",
       "    <tr>\n",
       "      <th>108</th>\n",
       "      <td>2021-04-24</td>\n",
       "      <td>1518.418</td>\n",
       "      <td>7670.95</td>\n",
       "      <td>347783.21</td>\n",
       "      <td>5084.582</td>\n",
       "      <td>1481.05</td>\n",
       "      <td>8223.0</td>\n",
       "      <td>4</td>\n",
       "      <td>2020</td>\n",
       "      <td>60.6</td>\n",
       "      <td>24</td>\n",
       "      <td>4445.0</td>\n",
       "      <td>-0.147180</td>\n",
       "      <td>-0.323908</td>\n",
       "      <td>3.562334</td>\n",
       "      <td>-0.212218</td>\n",
       "      <td>8.171678</td>\n",
       "    </tr>\n",
       "    <tr>\n",
       "      <th>114</th>\n",
       "      <td>2021-04-30</td>\n",
       "      <td>1118.628</td>\n",
       "      <td>5209.85</td>\n",
       "      <td>348217.45</td>\n",
       "      <td>3666.372</td>\n",
       "      <td>610.15</td>\n",
       "      <td>6969.0</td>\n",
       "      <td>4</td>\n",
       "      <td>2020</td>\n",
       "      <td>39.9</td>\n",
       "      <td>30</td>\n",
       "      <td>2695.0</td>\n",
       "      <td>-0.960579</td>\n",
       "      <td>-1.005174</td>\n",
       "      <td>0.607129</td>\n",
       "      <td>-0.432639</td>\n",
       "      <td>475.706087</td>\n",
       "    </tr>\n",
       "    <tr>\n",
       "      <th>119</th>\n",
       "      <td>2021-05-05</td>\n",
       "      <td>1805.308</td>\n",
       "      <td>3230.00</td>\n",
       "      <td>339992.07</td>\n",
       "      <td>5920.492</td>\n",
       "      <td>2175.20</td>\n",
       "      <td>12183.0</td>\n",
       "      <td>5</td>\n",
       "      <td>2020</td>\n",
       "      <td>48.3</td>\n",
       "      <td>5</td>\n",
       "      <td>2969.0</td>\n",
       "      <td>0.861621</td>\n",
       "      <td>0.747523</td>\n",
       "      <td>-1.414490</td>\n",
       "      <td>0.330373</td>\n",
       "      <td>4.716332</td>\n",
       "    </tr>\n",
       "    <tr>\n",
       "      <th>120</th>\n",
       "      <td>2021-05-06</td>\n",
       "      <td>2009.644</td>\n",
       "      <td>7349.75</td>\n",
       "      <td>347184.55</td>\n",
       "      <td>6767.356</td>\n",
       "      <td>1241.25</td>\n",
       "      <td>12223.0</td>\n",
       "      <td>5</td>\n",
       "      <td>2020</td>\n",
       "      <td>84.9</td>\n",
       "      <td>6</td>\n",
       "      <td>10932.0</td>\n",
       "      <td>1.509608</td>\n",
       "      <td>1.244796</td>\n",
       "      <td>2.783013</td>\n",
       "      <td>-0.118041</td>\n",
       "      <td>11.651320</td>\n",
       "    </tr>\n",
       "    <tr>\n",
       "      <th>142</th>\n",
       "      <td>2021-05-29</td>\n",
       "      <td>2049.808</td>\n",
       "      <td>5140.30</td>\n",
       "      <td>345890.46</td>\n",
       "      <td>6648.592</td>\n",
       "      <td>404.30</td>\n",
       "      <td>16635.0</td>\n",
       "      <td>5</td>\n",
       "      <td>2020</td>\n",
       "      <td>54.9</td>\n",
       "      <td>29</td>\n",
       "      <td>4057.0</td>\n",
       "      <td>1.460011</td>\n",
       "      <td>1.411288</td>\n",
       "      <td>0.536597</td>\n",
       "      <td>-0.663808</td>\n",
       "      <td>66.971916</td>\n",
       "    </tr>\n",
       "    <tr>\n",
       "      <th>146</th>\n",
       "      <td>2021-06-02</td>\n",
       "      <td>2712.986</td>\n",
       "      <td>7415.35</td>\n",
       "      <td>347172.58</td>\n",
       "      <td>8710.814</td>\n",
       "      <td>2236.85</td>\n",
       "      <td>17857.0</td>\n",
       "      <td>6</td>\n",
       "      <td>2020</td>\n",
       "      <td>76.2</td>\n",
       "      <td>2</td>\n",
       "      <td>4324.0</td>\n",
       "      <td>3.209100</td>\n",
       "      <td>3.223566</td>\n",
       "      <td>2.836034</td>\n",
       "      <td>0.686641</td>\n",
       "      <td>7.358751</td>\n",
       "    </tr>\n",
       "    <tr>\n",
       "      <th>150</th>\n",
       "      <td>2021-06-06</td>\n",
       "      <td>1746.792</td>\n",
       "      <td>7279.65</td>\n",
       "      <td>347647.13</td>\n",
       "      <td>5868.208</td>\n",
       "      <td>596.35</td>\n",
       "      <td>11365.0</td>\n",
       "      <td>6</td>\n",
       "      <td>2020</td>\n",
       "      <td>69.3</td>\n",
       "      <td>6</td>\n",
       "      <td>7609.0</td>\n",
       "      <td>0.637612</td>\n",
       "      <td>0.464820</td>\n",
       "      <td>2.317388</td>\n",
       "      <td>-0.617825</td>\n",
       "      <td>13.280005</td>\n",
       "    </tr>\n",
       "    <tr>\n",
       "      <th>159</th>\n",
       "      <td>2021-06-16</td>\n",
       "      <td>1768.092</td>\n",
       "      <td>4576.95</td>\n",
       "      <td>346681.99</td>\n",
       "      <td>5696.508</td>\n",
       "      <td>4983.45</td>\n",
       "      <td>10336.0</td>\n",
       "      <td>6</td>\n",
       "      <td>2020</td>\n",
       "      <td>56.7</td>\n",
       "      <td>16</td>\n",
       "      <td>10000.0</td>\n",
       "      <td>0.654504</td>\n",
       "      <td>0.671415</td>\n",
       "      <td>-0.064379</td>\n",
       "      <td>3.087400</td>\n",
       "      <td>3.773491</td>\n",
       "    </tr>\n",
       "    <tr>\n",
       "      <th>160</th>\n",
       "      <td>2021-06-17</td>\n",
       "      <td>1028.018</td>\n",
       "      <td>4206.70</td>\n",
       "      <td>346215.01</td>\n",
       "      <td>3365.382</td>\n",
       "      <td>499.90</td>\n",
       "      <td>8510.0</td>\n",
       "      <td>6</td>\n",
       "      <td>2020</td>\n",
       "      <td>27.3</td>\n",
       "      <td>17</td>\n",
       "      <td>20000.0</td>\n",
       "      <td>-1.102576</td>\n",
       "      <td>-1.113051</td>\n",
       "      <td>-0.412724</td>\n",
       "      <td>-0.585940</td>\n",
       "      <td>3.628507</td>\n",
       "    </tr>\n",
       "    <tr>\n",
       "      <th>164</th>\n",
       "      <td>2021-06-21</td>\n",
       "      <td>1660.890</td>\n",
       "      <td>4242.00</td>\n",
       "      <td>346973.75</td>\n",
       "      <td>5463.710</td>\n",
       "      <td>3509.40</td>\n",
       "      <td>11179.0</td>\n",
       "      <td>6</td>\n",
       "      <td>2020</td>\n",
       "      <td>56.1</td>\n",
       "      <td>21</td>\n",
       "      <td>10000.0</td>\n",
       "      <td>0.519639</td>\n",
       "      <td>0.462500</td>\n",
       "      <td>-0.477151</td>\n",
       "      <td>1.500969</td>\n",
       "      <td>536.605367</td>\n",
       "    </tr>\n",
       "    <tr>\n",
       "      <th>165</th>\n",
       "      <td>2021-06-22</td>\n",
       "      <td>1520.588</td>\n",
       "      <td>5235.85</td>\n",
       "      <td>346586.29</td>\n",
       "      <td>5077.012</td>\n",
       "      <td>6198.55</td>\n",
       "      <td>9230.0</td>\n",
       "      <td>6</td>\n",
       "      <td>2020</td>\n",
       "      <td>57.0</td>\n",
       "      <td>22</td>\n",
       "      <td>20000.0</td>\n",
       "      <td>0.190747</td>\n",
       "      <td>0.089863</td>\n",
       "      <td>0.448825</td>\n",
       "      <td>3.289464</td>\n",
       "      <td>3.559123</td>\n",
       "    </tr>\n",
       "    <tr>\n",
       "      <th>192</th>\n",
       "      <td>2021-07-20</td>\n",
       "      <td>855.824</td>\n",
       "      <td>3276.90</td>\n",
       "      <td>347974.54</td>\n",
       "      <td>2842.776</td>\n",
       "      <td>515.50</td>\n",
       "      <td>5178.0</td>\n",
       "      <td>7</td>\n",
       "      <td>2020</td>\n",
       "      <td>22.5</td>\n",
       "      <td>20</td>\n",
       "      <td>9.0</td>\n",
       "      <td>-1.351485</td>\n",
       "      <td>-1.314470</td>\n",
       "      <td>-0.423959</td>\n",
       "      <td>-0.721177</td>\n",
       "      <td>inf</td>\n",
       "    </tr>\n",
       "    <tr>\n",
       "      <th>193</th>\n",
       "      <td>2021-07-21</td>\n",
       "      <td>1064.166</td>\n",
       "      <td>3663.69</td>\n",
       "      <td>348077.96</td>\n",
       "      <td>3550.834</td>\n",
       "      <td>591.31</td>\n",
       "      <td>6178.0</td>\n",
       "      <td>7</td>\n",
       "      <td>2020</td>\n",
       "      <td>32.7</td>\n",
       "      <td>21</td>\n",
       "      <td>2030.0</td>\n",
       "      <td>-0.620466</td>\n",
       "      <td>-0.638096</td>\n",
       "      <td>-0.186041</td>\n",
       "      <td>-0.638602</td>\n",
       "      <td>477.768482</td>\n",
       "    </tr>\n",
       "    <tr>\n",
       "      <th>199</th>\n",
       "      <td>2021-07-27</td>\n",
       "      <td>952.360</td>\n",
       "      <td>2620.95</td>\n",
       "      <td>345067.34</td>\n",
       "      <td>3118.440</td>\n",
       "      <td>501.25</td>\n",
       "      <td>4042.0</td>\n",
       "      <td>7</td>\n",
       "      <td>2020</td>\n",
       "      <td>24.3</td>\n",
       "      <td>27</td>\n",
       "      <td>907.0</td>\n",
       "      <td>-0.826754</td>\n",
       "      <td>-0.771441</td>\n",
       "      <td>-0.648946</td>\n",
       "      <td>-0.776304</td>\n",
       "      <td>inf</td>\n",
       "    </tr>\n",
       "  </tbody>\n",
       "</table>\n",
       "</div>"
      ],
      "text/plain": [
       "          Date    Fridge       AC    Voltage  Kitchen Appliances  \\\n",
       "8   2021-01-09  1593.318     0.00  347418.49            5162.682   \n",
       "27  2021-01-30  2842.728     0.00  348594.33            9119.672   \n",
       "33  2021-02-05  2187.910     0.00  346159.08            7060.490   \n",
       "38  2021-02-10  1923.254     0.00  346612.98            6118.146   \n",
       "42  2021-02-15  2097.132     0.00  350563.36            6603.868   \n",
       "47  2021-02-20  1983.728     0.00  348176.11            6289.872   \n",
       "48  2021-02-21  2740.314     0.00  346500.54            8834.886   \n",
       "65  2021-03-10  1830.684  3042.21  348383.29            5943.116   \n",
       "96  2021-04-11  2555.146  6310.95  350139.21            8239.254   \n",
       "108 2021-04-24  1518.418  7670.95  347783.21            5084.582   \n",
       "114 2021-04-30  1118.628  5209.85  348217.45            3666.372   \n",
       "119 2021-05-05  1805.308  3230.00  339992.07            5920.492   \n",
       "120 2021-05-06  2009.644  7349.75  347184.55            6767.356   \n",
       "142 2021-05-29  2049.808  5140.30  345890.46            6648.592   \n",
       "146 2021-06-02  2712.986  7415.35  347172.58            8710.814   \n",
       "150 2021-06-06  1746.792  7279.65  347647.13            5868.208   \n",
       "159 2021-06-16  1768.092  4576.95  346681.99            5696.508   \n",
       "160 2021-06-17  1028.018  4206.70  346215.01            3365.382   \n",
       "164 2021-06-21  1660.890  4242.00  346973.75            5463.710   \n",
       "165 2021-06-22  1520.588  5235.85  346586.29            5077.012   \n",
       "192 2021-07-20   855.824  3276.90  347974.54            2842.776   \n",
       "193 2021-07-21  1064.166  3663.69  348077.96            3550.834   \n",
       "199 2021-07-27   952.360  2620.95  345067.34            3118.440   \n",
       "\n",
       "     Other Appliances  Sub_metering_3  month  year  Total_Consumption  day  \\\n",
       "8             1194.00         13990.0      1  2020                9.9    9   \n",
       "27            7544.00         17891.0      1  2020               22.7   30   \n",
       "33            7966.00         14454.0      2  2020               19.1    5   \n",
       "38             741.00         13532.0      2  2020               12.8   10   \n",
       "42             332.00         16065.0      2  2020               12.5   15   \n",
       "47             382.00         14470.0      2  2020               12.4   20   \n",
       "48            8142.00         17083.0      2  2020               25.6   21   \n",
       "65            2583.99          7738.0      3  2020               55.2   10   \n",
       "96           11165.65         10286.0      4  2020              102.9   11   \n",
       "108           1481.05          8223.0      4  2020               60.6   24   \n",
       "114            610.15          6969.0      4  2020               39.9   30   \n",
       "119           2175.20         12183.0      5  2020               48.3    5   \n",
       "120           1241.25         12223.0      5  2020               84.9    6   \n",
       "142            404.30         16635.0      5  2020               54.9   29   \n",
       "146           2236.85         17857.0      6  2020               76.2    2   \n",
       "150            596.35         11365.0      6  2020               69.3    6   \n",
       "159           4983.45         10336.0      6  2020               56.7   16   \n",
       "160            499.90          8510.0      6  2020               27.3   17   \n",
       "164           3509.40         11179.0      6  2020               56.1   21   \n",
       "165           6198.55          9230.0      6  2020               57.0   22   \n",
       "192            515.50          5178.0      7  2020               22.5   20   \n",
       "193            591.31          6178.0      7  2020               32.7   21   \n",
       "199            501.25          4042.0      7  2020               24.3   27   \n",
       "\n",
       "     Washing Machine  kap_zscore  fridge_zscore  ac_zscore  oap_zscore  \\\n",
       "8             1947.0         NaN            NaN        NaN         NaN   \n",
       "27            3240.0         NaN            NaN        NaN         NaN   \n",
       "33            1858.0    0.727257       0.653262        NaN    3.378153   \n",
       "38            3972.0    0.184626       0.177368        NaN   -0.431927   \n",
       "42            3468.0    0.356957       0.379214        NaN   -0.662260   \n",
       "47            3748.0    0.237051       0.233801        NaN   -0.613829   \n",
       "48            5905.0    1.786216       1.675543        NaN    2.660617   \n",
       "65            5000.0    0.391759       0.321174   1.631128    0.337466   \n",
       "96            6029.0    2.126852       2.063797   2.247089    4.357294   \n",
       "108           4445.0   -0.147180      -0.323908   3.562334   -0.212218   \n",
       "114           2695.0   -0.960579      -1.005174   0.607129   -0.432639   \n",
       "119           2969.0    0.861621       0.747523  -1.414490    0.330373   \n",
       "120          10932.0    1.509608       1.244796   2.783013   -0.118041   \n",
       "142           4057.0    1.460011       1.411288   0.536597   -0.663808   \n",
       "146           4324.0    3.209100       3.223566   2.836034    0.686641   \n",
       "150           7609.0    0.637612       0.464820   2.317388   -0.617825   \n",
       "159          10000.0    0.654504       0.671415  -0.064379    3.087400   \n",
       "160          20000.0   -1.102576      -1.113051  -0.412724   -0.585940   \n",
       "164          10000.0    0.519639       0.462500  -0.477151    1.500969   \n",
       "165          20000.0    0.190747       0.089863   0.448825    3.289464   \n",
       "192              9.0   -1.351485      -1.314470  -0.423959   -0.721177   \n",
       "193           2030.0   -0.620466      -0.638096  -0.186041   -0.638602   \n",
       "199            907.0   -0.826754      -0.771441  -0.648946   -0.776304   \n",
       "\n",
       "      wm_zscore  \n",
       "8      3.046567  \n",
       "27     5.342202  \n",
       "33          inf  \n",
       "38     8.164266  \n",
       "42     3.204077  \n",
       "47     3.308385  \n",
       "48     3.176719  \n",
       "65    10.576512  \n",
       "96     4.248514  \n",
       "108    8.171678  \n",
       "114  475.706087  \n",
       "119    4.716332  \n",
       "120   11.651320  \n",
       "142   66.971916  \n",
       "146    7.358751  \n",
       "150   13.280005  \n",
       "159    3.773491  \n",
       "160    3.628507  \n",
       "164  536.605367  \n",
       "165    3.559123  \n",
       "192         inf  \n",
       "193  477.768482  \n",
       "199         inf  "
      ]
     },
     "execution_count": 9,
     "metadata": {},
     "output_type": "execute_result"
    }
   ],
   "source": [
    "df1[df1['wm_zscore'] > 3]"
   ]
  },
  {
   "cell_type": "code",
   "execution_count": 10,
   "id": "03291039",
   "metadata": {},
   "outputs": [
    {
     "data": {
      "application/vnd.plotly.v1+json": {
       "config": {
        "plotlyServerURL": "https://plot.ly"
       },
       "data": [
        {
         "mode": "lines",
         "name": "lines",
         "type": "scatter",
         "x": [
          "2021-01-01T00:00:00.000000000",
          "2021-01-02T00:00:00.000000000",
          "2021-01-03T00:00:00.000000000",
          "2021-01-04T00:00:00.000000000",
          "2021-01-05T00:00:00.000000000",
          "2021-01-06T00:00:00.000000000",
          "2021-01-07T00:00:00.000000000",
          "2021-01-08T00:00:00.000000000",
          "2021-01-09T00:00:00.000000000",
          "2021-01-10T00:00:00.000000000",
          "2021-01-11T00:00:00.000000000",
          "2021-01-14T00:00:00.000000000",
          "2021-01-15T00:00:00.000000000",
          "2021-01-16T00:00:00.000000000",
          "2021-01-17T00:00:00.000000000",
          "2021-01-18T00:00:00.000000000",
          "2021-01-19T00:00:00.000000000",
          "2021-01-20T00:00:00.000000000",
          "2021-01-21T00:00:00.000000000",
          "2021-01-22T00:00:00.000000000",
          "2021-01-23T00:00:00.000000000",
          "2021-01-24T00:00:00.000000000",
          "2021-01-25T00:00:00.000000000",
          "2021-01-26T00:00:00.000000000",
          "2021-01-27T00:00:00.000000000",
          "2021-01-28T00:00:00.000000000",
          "2021-01-29T00:00:00.000000000",
          "2021-01-30T00:00:00.000000000",
          "2021-01-31T00:00:00.000000000",
          "2021-02-01T00:00:00.000000000",
          "2021-02-02T00:00:00.000000000",
          "2021-02-03T00:00:00.000000000",
          "2021-02-04T00:00:00.000000000",
          "2021-02-05T00:00:00.000000000",
          "2021-02-06T00:00:00.000000000",
          "2021-02-07T00:00:00.000000000",
          "2021-02-08T00:00:00.000000000",
          "2021-02-09T00:00:00.000000000",
          "2021-02-10T00:00:00.000000000",
          "2021-02-11T00:00:00.000000000",
          "2021-02-13T00:00:00.000000000",
          "2021-02-14T00:00:00.000000000",
          "2021-02-15T00:00:00.000000000",
          "2021-02-16T00:00:00.000000000",
          "2021-02-17T00:00:00.000000000",
          "2021-02-18T00:00:00.000000000",
          "2021-02-19T00:00:00.000000000",
          "2021-02-20T00:00:00.000000000",
          "2021-02-21T00:00:00.000000000",
          "2021-02-22T00:00:00.000000000",
          "2021-02-23T00:00:00.000000000",
          "2021-02-24T00:00:00.000000000",
          "2021-02-25T00:00:00.000000000",
          "2021-02-26T00:00:00.000000000",
          "2021-02-27T00:00:00.000000000",
          "2021-02-28T00:00:00.000000000",
          "2021-03-01T00:00:00.000000000",
          "2021-03-02T00:00:00.000000000",
          "2021-03-03T00:00:00.000000000",
          "2021-03-04T00:00:00.000000000",
          "2021-03-05T00:00:00.000000000",
          "2021-03-06T00:00:00.000000000",
          "2021-03-07T00:00:00.000000000",
          "2021-03-08T00:00:00.000000000",
          "2021-03-09T00:00:00.000000000",
          "2021-03-10T00:00:00.000000000",
          "2021-03-11T00:00:00.000000000",
          "2021-03-13T00:00:00.000000000",
          "2021-03-14T00:00:00.000000000",
          "2021-03-15T00:00:00.000000000",
          "2021-03-16T00:00:00.000000000",
          "2021-03-17T00:00:00.000000000",
          "2021-03-18T00:00:00.000000000",
          "2021-03-19T00:00:00.000000000",
          "2021-03-20T00:00:00.000000000",
          "2021-03-21T00:00:00.000000000",
          "2021-03-22T00:00:00.000000000",
          "2021-03-23T00:00:00.000000000",
          "2021-03-24T00:00:00.000000000",
          "2021-03-25T00:00:00.000000000",
          "2021-03-26T00:00:00.000000000",
          "2021-03-27T00:00:00.000000000",
          "2021-03-28T00:00:00.000000000",
          "2021-03-29T00:00:00.000000000",
          "2021-03-30T00:00:00.000000000",
          "2021-03-31T00:00:00.000000000",
          "2021-04-01T00:00:00.000000000",
          "2021-04-02T00:00:00.000000000",
          "2021-04-03T00:00:00.000000000",
          "2021-04-04T00:00:00.000000000",
          "2021-04-05T00:00:00.000000000",
          "2021-04-06T00:00:00.000000000",
          "2021-04-07T00:00:00.000000000",
          "2021-04-08T00:00:00.000000000",
          "2021-04-09T00:00:00.000000000",
          "2021-04-10T00:00:00.000000000",
          "2021-04-11T00:00:00.000000000",
          "2021-04-13T00:00:00.000000000",
          "2021-04-14T00:00:00.000000000",
          "2021-04-15T00:00:00.000000000",
          "2021-04-16T00:00:00.000000000",
          "2021-04-17T00:00:00.000000000",
          "2021-04-18T00:00:00.000000000",
          "2021-04-19T00:00:00.000000000",
          "2021-04-20T00:00:00.000000000",
          "2021-04-21T00:00:00.000000000",
          "2021-04-22T00:00:00.000000000",
          "2021-04-23T00:00:00.000000000",
          "2021-04-24T00:00:00.000000000",
          "2021-04-25T00:00:00.000000000",
          "2021-04-26T00:00:00.000000000",
          "2021-04-27T00:00:00.000000000",
          "2021-04-28T00:00:00.000000000",
          "2021-04-29T00:00:00.000000000",
          "2021-04-30T00:00:00.000000000",
          "2021-05-01T00:00:00.000000000",
          "2021-05-02T00:00:00.000000000",
          "2021-05-03T00:00:00.000000000",
          "2021-05-04T00:00:00.000000000",
          "2021-05-05T00:00:00.000000000",
          "2021-05-06T00:00:00.000000000",
          "2021-05-07T00:00:00.000000000",
          "2021-05-08T00:00:00.000000000",
          "2021-05-09T00:00:00.000000000",
          "2021-05-10T00:00:00.000000000",
          "2021-05-11T00:00:00.000000000",
          "2021-05-13T00:00:00.000000000",
          "2021-05-14T00:00:00.000000000",
          "2021-05-15T00:00:00.000000000",
          "2021-05-16T00:00:00.000000000",
          "2021-05-17T00:00:00.000000000",
          "2021-05-18T00:00:00.000000000",
          "2021-05-19T00:00:00.000000000",
          "2021-05-20T00:00:00.000000000",
          "2021-05-21T00:00:00.000000000",
          "2021-05-22T00:00:00.000000000",
          "2021-05-23T00:00:00.000000000",
          "2021-05-24T00:00:00.000000000",
          "2021-05-25T00:00:00.000000000",
          "2021-05-26T00:00:00.000000000",
          "2021-05-27T00:00:00.000000000",
          "2021-05-28T00:00:00.000000000",
          "2021-05-29T00:00:00.000000000",
          "2021-05-30T00:00:00.000000000",
          "2021-05-31T00:00:00.000000000",
          "2021-06-01T00:00:00.000000000",
          "2021-06-02T00:00:00.000000000",
          "2021-06-03T00:00:00.000000000",
          "2021-06-04T00:00:00.000000000",
          "2021-06-05T00:00:00.000000000",
          "2021-06-06T00:00:00.000000000",
          "2021-06-07T00:00:00.000000000",
          "2021-06-08T00:00:00.000000000",
          "2021-06-09T00:00:00.000000000",
          "2021-06-10T00:00:00.000000000",
          "2021-06-11T00:00:00.000000000",
          "2021-06-13T00:00:00.000000000",
          "2021-06-14T00:00:00.000000000",
          "2021-06-15T00:00:00.000000000",
          "2021-06-16T00:00:00.000000000",
          "2021-06-17T00:00:00.000000000",
          "2021-06-18T00:00:00.000000000",
          "2021-06-19T00:00:00.000000000",
          "2021-06-20T00:00:00.000000000",
          "2021-06-21T00:00:00.000000000",
          "2021-06-22T00:00:00.000000000",
          "2021-06-23T00:00:00.000000000",
          "2021-06-24T00:00:00.000000000",
          "2021-06-25T00:00:00.000000000",
          "2021-06-26T00:00:00.000000000",
          "2021-06-27T00:00:00.000000000",
          "2021-06-28T00:00:00.000000000",
          "2021-06-29T00:00:00.000000000",
          "2021-06-30T00:00:00.000000000",
          "2021-07-01T00:00:00.000000000",
          "2021-07-02T00:00:00.000000000",
          "2021-07-03T00:00:00.000000000",
          "2021-07-04T00:00:00.000000000",
          "2021-07-05T00:00:00.000000000",
          "2021-07-06T00:00:00.000000000",
          "2021-07-07T00:00:00.000000000",
          "2021-07-08T00:00:00.000000000",
          "2021-07-09T00:00:00.000000000",
          "2021-07-10T00:00:00.000000000",
          "2021-07-11T00:00:00.000000000",
          "2021-07-13T00:00:00.000000000",
          "2021-07-14T00:00:00.000000000",
          "2021-07-15T00:00:00.000000000",
          "2021-07-16T00:00:00.000000000",
          "2021-07-17T00:00:00.000000000",
          "2021-07-18T00:00:00.000000000",
          "2021-07-19T00:00:00.000000000",
          "2021-07-20T00:00:00.000000000",
          "2021-07-21T00:00:00.000000000",
          "2021-07-22T00:00:00.000000000",
          "2021-07-23T00:00:00.000000000",
          "2021-07-24T00:00:00.000000000",
          "2021-07-25T00:00:00.000000000",
          "2021-07-26T00:00:00.000000000",
          "2021-07-27T00:00:00.000000000",
          "2021-07-28T00:00:00.000000000",
          "2021-07-29T00:00:00.000000000",
          "2021-07-30T00:00:00.000000000"
         ],
         "y": {
          "bdata": "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",
          "dtype": "f8"
         }
        },
        {
         "mode": "markers",
         "name": "lines",
         "type": "scatter",
         "x": [
          "2021-01-09T00:00:00.000000000",
          "2021-01-30T00:00:00.000000000",
          "2021-02-05T00:00:00.000000000",
          "2021-02-10T00:00:00.000000000",
          "2021-02-15T00:00:00.000000000",
          "2021-02-20T00:00:00.000000000",
          "2021-02-21T00:00:00.000000000",
          "2021-03-10T00:00:00.000000000",
          "2021-04-11T00:00:00.000000000",
          "2021-04-24T00:00:00.000000000",
          "2021-04-30T00:00:00.000000000",
          "2021-05-05T00:00:00.000000000",
          "2021-05-06T00:00:00.000000000",
          "2021-05-29T00:00:00.000000000",
          "2021-06-02T00:00:00.000000000",
          "2021-06-06T00:00:00.000000000",
          "2021-06-16T00:00:00.000000000",
          "2021-06-17T00:00:00.000000000",
          "2021-06-21T00:00:00.000000000",
          "2021-06-22T00:00:00.000000000",
          "2021-07-20T00:00:00.000000000",
          "2021-07-21T00:00:00.000000000",
          "2021-07-27T00:00:00.000000000"
         ],
         "y": {
          "bdata": "AAAAAABsnkAAAAAAAFCpQAAAAAAACJ1AAAAAAAAIr0AAAAAAABirQAAAAAAASK1AAAAAAAARt0AAAAAAAIizQAAAAAAAjbdAAAAAAABdsUAAAAAAAA6lQAAAAAAAMqdAAAAAAABaxUAAAAAAALKvQAAAAAAA5LBAAAAAAAC5vUAAAAAAAIjDQAAAAAAAiNNAAAAAAACIw0AAAAAAAIjTQAAAAAAAACJAAAAAAAC4n0AAAAAAAFiMQA==",
          "dtype": "f8"
         }
        }
       ],
       "layout": {
        "template": {
         "data": {
          "bar": [
           {
            "error_x": {
             "color": "#2a3f5f"
            },
            "error_y": {
             "color": "#2a3f5f"
            },
            "marker": {
             "line": {
              "color": "#E5ECF6",
              "width": 0.5
             },
             "pattern": {
              "fillmode": "overlay",
              "size": 10,
              "solidity": 0.2
             }
            },
            "type": "bar"
           }
          ],
          "barpolar": [
           {
            "marker": {
             "line": {
              "color": "#E5ECF6",
              "width": 0.5
             },
             "pattern": {
              "fillmode": "overlay",
              "size": 10,
              "solidity": 0.2
             }
            },
            "type": "barpolar"
           }
          ],
          "carpet": [
           {
            "aaxis": {
             "endlinecolor": "#2a3f5f",
             "gridcolor": "white",
             "linecolor": "white",
             "minorgridcolor": "white",
             "startlinecolor": "#2a3f5f"
            },
            "baxis": {
             "endlinecolor": "#2a3f5f",
             "gridcolor": "white",
             "linecolor": "white",
             "minorgridcolor": "white",
             "startlinecolor": "#2a3f5f"
            },
            "type": "carpet"
           }
          ],
          "choropleth": [
           {
            "colorbar": {
             "outlinewidth": 0,
             "ticks": ""
            },
            "type": "choropleth"
           }
          ],
          "contour": [
           {
            "colorbar": {
             "outlinewidth": 0,
             "ticks": ""
            },
            "colorscale": [
             [
              0,
              "#0d0887"
             ],
             [
              0.1111111111111111,
              "#46039f"
             ],
             [
              0.2222222222222222,
              "#7201a8"
             ],
             [
              0.3333333333333333,
              "#9c179e"
             ],
             [
              0.4444444444444444,
              "#bd3786"
             ],
             [
              0.5555555555555556,
              "#d8576b"
             ],
             [
              0.6666666666666666,
              "#ed7953"
             ],
             [
              0.7777777777777778,
              "#fb9f3a"
             ],
             [
              0.8888888888888888,
              "#fdca26"
             ],
             [
              1,
              "#f0f921"
             ]
            ],
            "type": "contour"
           }
          ],
          "contourcarpet": [
           {
            "colorbar": {
             "outlinewidth": 0,
             "ticks": ""
            },
            "type": "contourcarpet"
           }
          ],
          "heatmap": [
           {
            "colorbar": {
             "outlinewidth": 0,
             "ticks": ""
            },
            "colorscale": [
             [
              0,
              "#0d0887"
             ],
             [
              0.1111111111111111,
              "#46039f"
             ],
             [
              0.2222222222222222,
              "#7201a8"
             ],
             [
              0.3333333333333333,
              "#9c179e"
             ],
             [
              0.4444444444444444,
              "#bd3786"
             ],
             [
              0.5555555555555556,
              "#d8576b"
             ],
             [
              0.6666666666666666,
              "#ed7953"
             ],
             [
              0.7777777777777778,
              "#fb9f3a"
             ],
             [
              0.8888888888888888,
              "#fdca26"
             ],
             [
              1,
              "#f0f921"
             ]
            ],
            "type": "heatmap"
           }
          ],
          "histogram": [
           {
            "marker": {
             "pattern": {
              "fillmode": "overlay",
              "size": 10,
              "solidity": 0.2
             }
            },
            "type": "histogram"
           }
          ],
          "histogram2d": [
           {
            "colorbar": {
             "outlinewidth": 0,
             "ticks": ""
            },
            "colorscale": [
             [
              0,
              "#0d0887"
             ],
             [
              0.1111111111111111,
              "#46039f"
             ],
             [
              0.2222222222222222,
              "#7201a8"
             ],
             [
              0.3333333333333333,
              "#9c179e"
             ],
             [
              0.4444444444444444,
              "#bd3786"
             ],
             [
              0.5555555555555556,
              "#d8576b"
             ],
             [
              0.6666666666666666,
              "#ed7953"
             ],
             [
              0.7777777777777778,
              "#fb9f3a"
             ],
             [
              0.8888888888888888,
              "#fdca26"
             ],
             [
              1,
              "#f0f921"
             ]
            ],
            "type": "histogram2d"
           }
          ],
          "histogram2dcontour": [
           {
            "colorbar": {
             "outlinewidth": 0,
             "ticks": ""
            },
            "colorscale": [
             [
              0,
              "#0d0887"
             ],
             [
              0.1111111111111111,
              "#46039f"
             ],
             [
              0.2222222222222222,
              "#7201a8"
             ],
             [
              0.3333333333333333,
              "#9c179e"
             ],
             [
              0.4444444444444444,
              "#bd3786"
             ],
             [
              0.5555555555555556,
              "#d8576b"
             ],
             [
              0.6666666666666666,
              "#ed7953"
             ],
             [
              0.7777777777777778,
              "#fb9f3a"
             ],
             [
              0.8888888888888888,
              "#fdca26"
             ],
             [
              1,
              "#f0f921"
             ]
            ],
            "type": "histogram2dcontour"
           }
          ],
          "mesh3d": [
           {
            "colorbar": {
             "outlinewidth": 0,
             "ticks": ""
            },
            "type": "mesh3d"
           }
          ],
          "parcoords": [
           {
            "line": {
             "colorbar": {
              "outlinewidth": 0,
              "ticks": ""
             }
            },
            "type": "parcoords"
           }
          ],
          "pie": [
           {
            "automargin": true,
            "type": "pie"
           }
          ],
          "scatter": [
           {
            "fillpattern": {
             "fillmode": "overlay",
             "size": 10,
             "solidity": 0.2
            },
            "type": "scatter"
           }
          ],
          "scatter3d": [
           {
            "line": {
             "colorbar": {
              "outlinewidth": 0,
              "ticks": ""
             }
            },
            "marker": {
             "colorbar": {
              "outlinewidth": 0,
              "ticks": ""
             }
            },
            "type": "scatter3d"
           }
          ],
          "scattercarpet": [
           {
            "marker": {
             "colorbar": {
              "outlinewidth": 0,
              "ticks": ""
             }
            },
            "type": "scattercarpet"
           }
          ],
          "scattergeo": [
           {
            "marker": {
             "colorbar": {
              "outlinewidth": 0,
              "ticks": ""
             }
            },
            "type": "scattergeo"
           }
          ],
          "scattergl": [
           {
            "marker": {
             "colorbar": {
              "outlinewidth": 0,
              "ticks": ""
             }
            },
            "type": "scattergl"
           }
          ],
          "scattermap": [
           {
            "marker": {
             "colorbar": {
              "outlinewidth": 0,
              "ticks": ""
             }
            },
            "type": "scattermap"
           }
          ],
          "scattermapbox": [
           {
            "marker": {
             "colorbar": {
              "outlinewidth": 0,
              "ticks": ""
             }
            },
            "type": "scattermapbox"
           }
          ],
          "scatterpolar": [
           {
            "marker": {
             "colorbar": {
              "outlinewidth": 0,
              "ticks": ""
             }
            },
            "type": "scatterpolar"
           }
          ],
          "scatterpolargl": [
           {
            "marker": {
             "colorbar": {
              "outlinewidth": 0,
              "ticks": ""
             }
            },
            "type": "scatterpolargl"
           }
          ],
          "scatterternary": [
           {
            "marker": {
             "colorbar": {
              "outlinewidth": 0,
              "ticks": ""
             }
            },
            "type": "scatterternary"
           }
          ],
          "surface": [
           {
            "colorbar": {
             "outlinewidth": 0,
             "ticks": ""
            },
            "colorscale": [
             [
              0,
              "#0d0887"
             ],
             [
              0.1111111111111111,
              "#46039f"
             ],
             [
              0.2222222222222222,
              "#7201a8"
             ],
             [
              0.3333333333333333,
              "#9c179e"
             ],
             [
              0.4444444444444444,
              "#bd3786"
             ],
             [
              0.5555555555555556,
              "#d8576b"
             ],
             [
              0.6666666666666666,
              "#ed7953"
             ],
             [
              0.7777777777777778,
              "#fb9f3a"
             ],
             [
              0.8888888888888888,
              "#fdca26"
             ],
             [
              1,
              "#f0f921"
             ]
            ],
            "type": "surface"
           }
          ],
          "table": [
           {
            "cells": {
             "fill": {
              "color": "#EBF0F8"
             },
             "line": {
              "color": "white"
             }
            },
            "header": {
             "fill": {
              "color": "#C8D4E3"
             },
             "line": {
              "color": "white"
             }
            },
            "type": "table"
           }
          ]
         },
         "layout": {
          "annotationdefaults": {
           "arrowcolor": "#2a3f5f",
           "arrowhead": 0,
           "arrowwidth": 1
          },
          "autotypenumbers": "strict",
          "coloraxis": {
           "colorbar": {
            "outlinewidth": 0,
            "ticks": ""
           }
          },
          "colorscale": {
           "diverging": [
            [
             0,
             "#8e0152"
            ],
            [
             0.1,
             "#c51b7d"
            ],
            [
             0.2,
             "#de77ae"
            ],
            [
             0.3,
             "#f1b6da"
            ],
            [
             0.4,
             "#fde0ef"
            ],
            [
             0.5,
             "#f7f7f7"
            ],
            [
             0.6,
             "#e6f5d0"
            ],
            [
             0.7,
             "#b8e186"
            ],
            [
             0.8,
             "#7fbc41"
            ],
            [
             0.9,
             "#4d9221"
            ],
            [
             1,
             "#276419"
            ]
           ],
           "sequential": [
            [
             0,
             "#0d0887"
            ],
            [
             0.1111111111111111,
             "#46039f"
            ],
            [
             0.2222222222222222,
             "#7201a8"
            ],
            [
             0.3333333333333333,
             "#9c179e"
            ],
            [
             0.4444444444444444,
             "#bd3786"
            ],
            [
             0.5555555555555556,
             "#d8576b"
            ],
            [
             0.6666666666666666,
             "#ed7953"
            ],
            [
             0.7777777777777778,
             "#fb9f3a"
            ],
            [
             0.8888888888888888,
             "#fdca26"
            ],
            [
             1,
             "#f0f921"
            ]
           ],
           "sequentialminus": [
            [
             0,
             "#0d0887"
            ],
            [
             0.1111111111111111,
             "#46039f"
            ],
            [
             0.2222222222222222,
             "#7201a8"
            ],
            [
             0.3333333333333333,
             "#9c179e"
            ],
            [
             0.4444444444444444,
             "#bd3786"
            ],
            [
             0.5555555555555556,
             "#d8576b"
            ],
            [
             0.6666666666666666,
             "#ed7953"
            ],
            [
             0.7777777777777778,
             "#fb9f3a"
            ],
            [
             0.8888888888888888,
             "#fdca26"
            ],
            [
             1,
             "#f0f921"
            ]
           ]
          },
          "colorway": [
           "#636efa",
           "#EF553B",
           "#00cc96",
           "#ab63fa",
           "#FFA15A",
           "#19d3f3",
           "#FF6692",
           "#B6E880",
           "#FF97FF",
           "#FECB52"
          ],
          "font": {
           "color": "#2a3f5f"
          },
          "geo": {
           "bgcolor": "white",
           "lakecolor": "white",
           "landcolor": "#E5ECF6",
           "showlakes": true,
           "showland": true,
           "subunitcolor": "white"
          },
          "hoverlabel": {
           "align": "left"
          },
          "hovermode": "closest",
          "mapbox": {
           "style": "light"
          },
          "paper_bgcolor": "white",
          "plot_bgcolor": "#E5ECF6",
          "polar": {
           "angularaxis": {
            "gridcolor": "white",
            "linecolor": "white",
            "ticks": ""
           },
           "bgcolor": "#E5ECF6",
           "radialaxis": {
            "gridcolor": "white",
            "linecolor": "white",
            "ticks": ""
           }
          },
          "scene": {
           "xaxis": {
            "backgroundcolor": "#E5ECF6",
            "gridcolor": "white",
            "gridwidth": 2,
            "linecolor": "white",
            "showbackground": true,
            "ticks": "",
            "zerolinecolor": "white"
           },
           "yaxis": {
            "backgroundcolor": "#E5ECF6",
            "gridcolor": "white",
            "gridwidth": 2,
            "linecolor": "white",
            "showbackground": true,
            "ticks": "",
            "zerolinecolor": "white"
           },
           "zaxis": {
            "backgroundcolor": "#E5ECF6",
            "gridcolor": "white",
            "gridwidth": 2,
            "linecolor": "white",
            "showbackground": true,
            "ticks": "",
            "zerolinecolor": "white"
           }
          },
          "shapedefaults": {
           "line": {
            "color": "#2a3f5f"
           }
          },
          "ternary": {
           "aaxis": {
            "gridcolor": "white",
            "linecolor": "white",
            "ticks": ""
           },
           "baxis": {
            "gridcolor": "white",
            "linecolor": "white",
            "ticks": ""
           },
           "bgcolor": "#E5ECF6",
           "caxis": {
            "gridcolor": "white",
            "linecolor": "white",
            "ticks": ""
           }
          },
          "title": {
           "x": 0.05
          },
          "xaxis": {
           "automargin": true,
           "gridcolor": "white",
           "linecolor": "white",
           "ticks": "",
           "title": {
            "standoff": 15
           },
           "zerolinecolor": "white",
           "zerolinewidth": 2
          },
          "yaxis": {
           "automargin": true,
           "gridcolor": "white",
           "linecolor": "white",
           "ticks": "",
           "title": {
            "standoff": 15
           },
           "zerolinecolor": "white",
           "zerolinewidth": 2
          }
         }
        },
        "title": {
         "text": "Anomalies detected in Washing Machine"
        }
       }
      }
     },
     "metadata": {},
     "output_type": "display_data"
    }
   ],
   "source": [
    "import plotly.graph_objects as go\n",
    "fig = go.Figure()\n",
    "df_anoms = df1[df1['wm_zscore'] > 3]\n",
    "fig.add_trace(go.Scatter(x=df1['Date'], y=df1['Washing Machine'],\n",
    "                    mode='lines',\n",
    "                    name='lines'))\n",
    "fig.add_trace(go.Scatter(x=df_anoms['Date'], y=df_anoms['Washing Machine'],\n",
    "                    mode='markers',\n",
    "                    name='lines'))\n",
    "fig.update_layout(title='Anomalies detected in Washing Machine')"
   ]
  },
  {
   "cell_type": "code",
   "execution_count": 11,
   "id": "e6ce5a81",
   "metadata": {},
   "outputs": [
    {
     "name": "stdout",
     "output_type": "stream",
     "text": [
      "\n",
      "=== K-Means Clustering Metrics ===\n",
      "                      Metric     Value\n",
      "            Silhouette Score  0.310080\n",
      "     Calinski-Harabasz Index 80.630662\n",
      "Anomaly Threshold (95th pct)  2.495404\n",
      "\n",
      "=== Detected Anomalies (11 rows) ===\n",
      "      Date  Kitchen Appliances   Fridge      AC  Other Appliances  Washing Machine  Cluster  Distance\n",
      "2021-01-27            8744.898 2760.902    0.00           6403.00           2044.0        2  3.164532\n",
      "2021-01-30            9119.672 2842.728    0.00           7544.00           3240.0        2  3.778264\n",
      "2021-02-05            7060.490 2187.910    0.00           7966.00           1858.0        2  3.052705\n",
      "2021-02-21            8834.886 2740.314    0.00           8142.00           5905.0        2  3.987954\n",
      "2021-03-02            9149.786 2903.014 2755.38           8457.82           2234.0        2  4.080765\n",
      "2021-03-20             417.868  131.732  348.42              1.98              0.0        0  3.442295\n",
      "2021-03-28            5868.186 1798.214 3906.42           7944.18           1083.0        2  3.001267\n",
      "2021-04-11            8239.254 2555.146 6310.95          11165.65           6029.0        2  5.348508\n",
      "2021-04-24            5084.582 1518.418 7670.95           1481.05           4445.0        0  2.499978\n",
      "2021-06-02            8710.814 2712.986 7415.35           2236.85           4324.0        2  3.385365\n",
      "2021-06-22            5077.012 1520.588 5235.85           6198.55          20000.0        1  2.849767\n"
     ]
    },
    {
     "data": {
      "image/png": "[encoded data removed]",
      "text/plain": [
       "<Figure size 1000x500 with 1 Axes>"
      ]
     },
     "metadata": {},
     "output_type": "display_data"
    }
   ],
   "source": [
    "import pandas as pd\n",
    "import numpy as np\n",
    "from sklearn.preprocessing import StandardScaler\n",
    "from sklearn.cluster import KMeans\n",
    "from sklearn.metrics import silhouette_score, calinski_harabasz_score\n",
    "import matplotlib.pyplot as plt\n",
    "\n",
    "# 1) Load and preprocess\n",
    "csv_path = r'D:\\E drive\\MCA\\2nd Sem\\It workshop II\\WattWise\\Datasets\\electricity_appliance_wise_data.csv'\n",
    "df = pd.read_csv(csv_path, parse_dates=['Date'])\n",
    "df = df[df['Date'].dt.year == 2021].reset_index(drop=True)\n",
    "\n",
    "# 2) Feature matrix\n",
    "features = ['Kitchen Appliances', 'Fridge', 'AC', 'Other Appliances', 'Washing Machine']\n",
    "X = df[features].values\n",
    "\n",
    "# 3) Standardize  \n",
    "scaler = StandardScaler()\n",
    "X_scaled = scaler.fit_transform(X)\n",
    "\n",
    "# 4) Fit K-Means\n",
    "k = 3\n",
    "kmeans = KMeans(n_clusters=k, random_state=42)\n",
    "labels = kmeans.fit_predict(X_scaled)\n",
    "centroids = kmeans.cluster_centers_\n",
    "\n",
    "# 5) Clustering metrics\n",
    "sil_score = silhouette_score(X_scaled, labels)\n",
    "ch_score  = calinski_harabasz_score(X_scaled, labels)\n",
    "\n",
    "# 6) Anomaly detection by distance\n",
    "distances = np.linalg.norm(X_scaled - centroids[labels], axis=1)\n",
    "threshold = np.percentile(distances, 95)   # top 5% as anomalies\n",
    "anomaly_mask = distances > threshold\n",
    "\n",
    "# 7) Attach results\n",
    "df['Cluster'] = labels\n",
    "df['Distance'] = distances\n",
    "df['Anomaly_KMeans'] = anomaly_mask\n",
    "\n",
    "# 8) Print out the metrics\n",
    "metrics_df = pd.DataFrame({\n",
    "    'Metric': ['Silhouette Score', 'Calinski-Harabasz Index', 'Anomaly Threshold (95th pct)'],\n",
    "    'Value' : [sil_score, ch_score, threshold]\n",
    "})\n",
    "print(\"\\n=== K-Means Clustering Metrics ===\")\n",
    "print(metrics_df.to_string(index=False))\n",
    "\n",
    "# 9) Print detected anomalies\n",
    "anoms_df = df[df['Anomaly_KMeans']]\n",
    "print(f\"\\n=== Detected Anomalies ({len(anoms_df)} rows) ===\")\n",
    "print(anoms_df[['Date'] + features + ['Cluster', 'Distance']].to_string(index=False))\n",
    "\n",
    "# 10) Plot distance distribution\n",
    "plt.figure(figsize=(10,5))\n",
    "plt.hist(distances, bins=30, edgecolor='k')\n",
    "plt.axvline(threshold, color='red', linestyle='--', label='95th percentile threshold')\n",
    "plt.title('Distance to Centroid Distribution (Anomaly Cut-off)')\n",
    "plt.xlabel('Distance')\n",
    "plt.ylabel('Frequency')\n",
    "plt.legend()\n",
    "plt.tight_layout()\n",
    "plt.show()\n"
   ]
  },
  {
   "cell_type": "code",
   "execution_count": null,
   "id": "f1d4855c",
   "metadata": {},
   "outputs": [
    {
     "name": "stdout",
     "output_type": "stream",
     "text": [
      "\n",
      "Processing date: 2021-01-09 00:00:00\n",
      "Plot saved as output_file_2021-01-09.html\n",
      "📧 Email sent successfully for Date: 2021-01-09\n",
      "\n",
      "Processing date: 2021-01-30 00:00:00\n",
      "Plot saved as output_file_2021-01-30.html\n",
      "📧 Email sent successfully for Date: 2021-01-30\n",
      "\n",
      "Processing date: 2021-02-05 00:00:00\n",
      "Plot saved as output_file_2021-02-05.html\n",
      "📧 Email sent successfully for Date: 2021-02-05\n",
      "\n",
      "Processing date: 2021-02-10 00:00:00\n",
      "Plot saved as output_file_2021-02-10.html\n",
      "📧 Email sent successfully for Date: 2021-02-10\n",
      "\n",
      "Processing date: 2021-02-15 00:00:00\n",
      "Plot saved as output_file_2021-02-15.html\n",
      "📧 Email sent successfully for Date: 2021-02-15\n",
      "\n",
      "Processing date: 2021-02-20 00:00:00\n",
      "Plot saved as output_file_2021-02-20.html\n",
      "📧 Email sent successfully for Date: 2021-02-20\n",
      "\n",
      "Processing date: 2021-02-21 00:00:00\n",
      "Plot saved as output_file_2021-02-21.html\n",
      "📧 Email sent successfully for Date: 2021-02-21\n",
      "\n",
      "Processing date: 2021-03-10 00:00:00\n",
      "Plot saved as output_file_2021-03-10.html\n",
      "📧 Email sent successfully for Date: 2021-03-10\n",
      "\n",
      "Processing date: 2021-04-11 00:00:00\n",
      "Plot saved as output_file_2021-04-11.html\n",
      "📧 Email sent successfully for Date: 2021-04-11\n",
      "\n",
      "Processing date: 2021-04-24 00:00:00\n",
      "Plot saved as output_file_2021-04-24.html\n",
      "📧 Email sent successfully for Date: 2021-04-24\n",
      "\n",
      "Processing date: 2021-04-30 00:00:00\n",
      "Plot saved as output_file_2021-04-30.html\n",
      "📧 Email sent successfully for Date: 2021-04-30\n",
      "\n",
      "Processing date: 2021-05-05 00:00:00\n",
      "Plot saved as output_file_2021-05-05.html\n",
      "📧 Email sent successfully for Date: 2021-05-05\n",
      "\n",
      "Processing date: 2021-05-06 00:00:00\n",
      "Plot saved as output_file_2021-05-06.html\n",
      "📧 Email sent successfully for Date: 2021-05-06\n",
      "\n",
      "Processing date: 2021-05-29 00:00:00\n",
      "Plot saved as output_file_2021-05-29.html\n",
      "📧 Email sent successfully for Date: 2021-05-29\n",
      "\n",
      "Processing date: 2021-06-02 00:00:00\n",
      "Plot saved as output_file_2021-06-02.html\n",
      "📧 Email sent successfully for Date: 2021-06-02\n",
      "\n",
      "Processing date: 2021-06-06 00:00:00\n",
      "Plot saved as output_file_2021-06-06.html\n"
     ]
    },
    {
     "ename": "KeyboardInterrupt",
     "evalue": "",
     "output_type": "error",
     "traceback": [
      "\u001b[1;31m---------------------------------------------------------------------------\u001b[0m",
      "\u001b[1;31mKeyboardInterrupt\u001b[0m                         Traceback (most recent call last)",
      "Cell \u001b[1;32mIn[12], line 63\u001b[0m\n\u001b[0;32m     61\u001b[0m         server\u001b[38;5;241m.\u001b[39mstarttls(context\u001b[38;5;241m=\u001b[39mcontext)\n\u001b[0;32m     62\u001b[0m         server\u001b[38;5;241m.\u001b[39mlogin(msg[\u001b[38;5;124m'\u001b[39m\u001b[38;5;124mFrom\u001b[39m\u001b[38;5;124m'\u001b[39m], \u001b[38;5;124m'\u001b[39m\u001b[38;5;124miqgq vblb hzyr potx\u001b[39m\u001b[38;5;124m'\u001b[39m)  \u001b[38;5;66;03m# App password\u001b[39;00m\n\u001b[1;32m---> 63\u001b[0m         server\u001b[38;5;241m.\u001b[39msendmail(msg[\u001b[38;5;124m'\u001b[39m\u001b[38;5;124mFrom\u001b[39m\u001b[38;5;124m'\u001b[39m], msg[\u001b[38;5;124m'\u001b[39m\u001b[38;5;124mTo\u001b[39m\u001b[38;5;124m'\u001b[39m], \u001b[43mmsg\u001b[49m\u001b[38;5;241;43m.\u001b[39;49m\u001b[43mas_string\u001b[49m\u001b[43m(\u001b[49m\u001b[43m)\u001b[49m)\n\u001b[0;32m     65\u001b[0m     \u001b[38;5;28mprint\u001b[39m(\u001b[38;5;124mf\u001b[39m\u001b[38;5;124m\"\u001b[39m\u001b[38;5;124m📧 Email sent successfully for Date: \u001b[39m\u001b[38;5;132;01m{\u001b[39;00mi_str\u001b[38;5;132;01m}\u001b[39;00m\u001b[38;5;124m\"\u001b[39m)\n\u001b[0;32m     67\u001b[0m \u001b[38;5;28;01mexcept\u001b[39;00m \u001b[38;5;167;01mException\u001b[39;00m \u001b[38;5;28;01mas\u001b[39;00m e:\n",
      "File \u001b[1;32mc:\\Users\\pinki\\AppData\\Local\\Programs\\Python\\Python312\\Lib\\email\\message.py:188\u001b[0m, in \u001b[0;36mMessage.as_string\u001b[1;34m(self, unixfrom, maxheaderlen, policy)\u001b[0m\n\u001b[0;32m    183\u001b[0m fp \u001b[38;5;241m=\u001b[39m StringIO()\n\u001b[0;32m    184\u001b[0m g \u001b[38;5;241m=\u001b[39m Generator(fp,\n\u001b[0;32m    185\u001b[0m               mangle_from_\u001b[38;5;241m=\u001b[39m\u001b[38;5;28;01mFalse\u001b[39;00m,\n\u001b[0;32m    186\u001b[0m               maxheaderlen\u001b[38;5;241m=\u001b[39mmaxheaderlen,\n\u001b[0;32m    187\u001b[0m               policy\u001b[38;5;241m=\u001b[39mpolicy)\n\u001b[1;32m--> 188\u001b[0m \u001b[43mg\u001b[49m\u001b[38;5;241;43m.\u001b[39;49m\u001b[43mflatten\u001b[49m\u001b[43m(\u001b[49m\u001b[38;5;28;43mself\u001b[39;49m\u001b[43m,\u001b[49m\u001b[43m \u001b[49m\u001b[43munixfrom\u001b[49m\u001b[38;5;241;43m=\u001b[39;49m\u001b[43munixfrom\u001b[49m\u001b[43m)\u001b[49m\n\u001b[0;32m    189\u001b[0m \u001b[38;5;28;01mreturn\u001b[39;00m fp\u001b[38;5;241m.\u001b[39mgetvalue()\n",
      "File \u001b[1;32mc:\\Users\\pinki\\AppData\\Local\\Programs\\Python\\Python312\\Lib\\email\\generator.py:115\u001b[0m, in \u001b[0;36mGenerator.flatten\u001b[1;34m(self, msg, unixfrom, linesep)\u001b[0m\n\u001b[0;32m    113\u001b[0m             ufrom \u001b[38;5;241m=\u001b[39m \u001b[38;5;124m'\u001b[39m\u001b[38;5;124mFrom nobody \u001b[39m\u001b[38;5;124m'\u001b[39m \u001b[38;5;241m+\u001b[39m time\u001b[38;5;241m.\u001b[39mctime(time\u001b[38;5;241m.\u001b[39mtime())\n\u001b[0;32m    114\u001b[0m         \u001b[38;5;28mself\u001b[39m\u001b[38;5;241m.\u001b[39mwrite(ufrom \u001b[38;5;241m+\u001b[39m \u001b[38;5;28mself\u001b[39m\u001b[38;5;241m.\u001b[39m_NL)\n\u001b[1;32m--> 115\u001b[0m     \u001b[38;5;28;43mself\u001b[39;49m\u001b[38;5;241;43m.\u001b[39;49m\u001b[43m_write\u001b[49m\u001b[43m(\u001b[49m\u001b[43mmsg\u001b[49m\u001b[43m)\u001b[49m\n\u001b[0;32m    116\u001b[0m \u001b[38;5;28;01mfinally\u001b[39;00m:\n\u001b[0;32m    117\u001b[0m     \u001b[38;5;28mself\u001b[39m\u001b[38;5;241m.\u001b[39mpolicy \u001b[38;5;241m=\u001b[39m old_gen_policy\n",
      "File \u001b[1;32mc:\\Users\\pinki\\AppData\\Local\\Programs\\Python\\Python312\\Lib\\email\\generator.py:180\u001b[0m, in \u001b[0;36mGenerator._write\u001b[1;34m(self, msg)\u001b[0m\n\u001b[0;32m    178\u001b[0m     \u001b[38;5;28mself\u001b[39m\u001b[38;5;241m.\u001b[39m_munge_cte \u001b[38;5;241m=\u001b[39m \u001b[38;5;28;01mNone\u001b[39;00m\n\u001b[0;32m    179\u001b[0m     \u001b[38;5;28mself\u001b[39m\u001b[38;5;241m.\u001b[39m_fp \u001b[38;5;241m=\u001b[39m sfp \u001b[38;5;241m=\u001b[39m \u001b[38;5;28mself\u001b[39m\u001b[38;5;241m.\u001b[39m_new_buffer()\n\u001b[1;32m--> 180\u001b[0m     \u001b[38;5;28;43mself\u001b[39;49m\u001b[38;5;241;43m.\u001b[39;49m\u001b[43m_dispatch\u001b[49m\u001b[43m(\u001b[49m\u001b[43mmsg\u001b[49m\u001b[43m)\u001b[49m\n\u001b[0;32m    181\u001b[0m \u001b[38;5;28;01mfinally\u001b[39;00m:\n\u001b[0;32m    182\u001b[0m     \u001b[38;5;28mself\u001b[39m\u001b[38;5;241m.\u001b[39m_fp \u001b[38;5;241m=\u001b[39m oldfp\n",
      "File \u001b[1;32mc:\\Users\\pinki\\AppData\\Local\\Programs\\Python\\Python312\\Lib\\email\\generator.py:217\u001b[0m, in \u001b[0;36mGenerator._dispatch\u001b[1;34m(self, msg)\u001b[0m\n\u001b[0;32m    215\u001b[0m     \u001b[38;5;28;01mif\u001b[39;00m meth \u001b[38;5;129;01mis\u001b[39;00m \u001b[38;5;28;01mNone\u001b[39;00m:\n\u001b[0;32m    216\u001b[0m         meth \u001b[38;5;241m=\u001b[39m \u001b[38;5;28mself\u001b[39m\u001b[38;5;241m.\u001b[39m_writeBody\n\u001b[1;32m--> 217\u001b[0m \u001b[43mmeth\u001b[49m\u001b[43m(\u001b[49m\u001b[43mmsg\u001b[49m\u001b[43m)\u001b[49m\n",
      "File \u001b[1;32mc:\\Users\\pinki\\AppData\\Local\\Programs\\Python\\Python312\\Lib\\email\\generator.py:275\u001b[0m, in \u001b[0;36mGenerator._handle_multipart\u001b[1;34m(self, msg)\u001b[0m\n\u001b[0;32m    273\u001b[0m     s \u001b[38;5;241m=\u001b[39m \u001b[38;5;28mself\u001b[39m\u001b[38;5;241m.\u001b[39m_new_buffer()\n\u001b[0;32m    274\u001b[0m     g \u001b[38;5;241m=\u001b[39m \u001b[38;5;28mself\u001b[39m\u001b[38;5;241m.\u001b[39mclone(s)\n\u001b[1;32m--> 275\u001b[0m     \u001b[43mg\u001b[49m\u001b[38;5;241;43m.\u001b[39;49m\u001b[43mflatten\u001b[49m\u001b[43m(\u001b[49m\u001b[43mpart\u001b[49m\u001b[43m,\u001b[49m\u001b[43m \u001b[49m\u001b[43munixfrom\u001b[49m\u001b[38;5;241;43m=\u001b[39;49m\u001b[38;5;28;43;01mFalse\u001b[39;49;00m\u001b[43m,\u001b[49m\u001b[43m \u001b[49m\u001b[43mlinesep\u001b[49m\u001b[38;5;241;43m=\u001b[39;49m\u001b[38;5;28;43mself\u001b[39;49m\u001b[38;5;241;43m.\u001b[39;49m\u001b[43m_NL\u001b[49m\u001b[43m)\u001b[49m\n\u001b[0;32m    276\u001b[0m     msgtexts\u001b[38;5;241m.\u001b[39mappend(s\u001b[38;5;241m.\u001b[39mgetvalue())\n\u001b[0;32m    277\u001b[0m \u001b[38;5;66;03m# BAW: What about boundaries that are wrapped in double-quotes?\u001b[39;00m\n",
      "File \u001b[1;32mc:\\Users\\pinki\\AppData\\Local\\Programs\\Python\\Python312\\Lib\\email\\generator.py:115\u001b[0m, in \u001b[0;36mGenerator.flatten\u001b[1;34m(self, msg, unixfrom, linesep)\u001b[0m\n\u001b[0;32m    113\u001b[0m             ufrom \u001b[38;5;241m=\u001b[39m \u001b[38;5;124m'\u001b[39m\u001b[38;5;124mFrom nobody \u001b[39m\u001b[38;5;124m'\u001b[39m \u001b[38;5;241m+\u001b[39m time\u001b[38;5;241m.\u001b[39mctime(time\u001b[38;5;241m.\u001b[39mtime())\n\u001b[0;32m    114\u001b[0m         \u001b[38;5;28mself\u001b[39m\u001b[38;5;241m.\u001b[39mwrite(ufrom \u001b[38;5;241m+\u001b[39m \u001b[38;5;28mself\u001b[39m\u001b[38;5;241m.\u001b[39m_NL)\n\u001b[1;32m--> 115\u001b[0m     \u001b[38;5;28;43mself\u001b[39;49m\u001b[38;5;241;43m.\u001b[39;49m\u001b[43m_write\u001b[49m\u001b[43m(\u001b[49m\u001b[43mmsg\u001b[49m\u001b[43m)\u001b[49m\n\u001b[0;32m    116\u001b[0m \u001b[38;5;28;01mfinally\u001b[39;00m:\n\u001b[0;32m    117\u001b[0m     \u001b[38;5;28mself\u001b[39m\u001b[38;5;241m.\u001b[39mpolicy \u001b[38;5;241m=\u001b[39m old_gen_policy\n",
      "File \u001b[1;32mc:\\Users\\pinki\\AppData\\Local\\Programs\\Python\\Python312\\Lib\\email\\generator.py:198\u001b[0m, in \u001b[0;36mGenerator._write\u001b[1;34m(self, msg)\u001b[0m\n\u001b[0;32m    196\u001b[0m meth \u001b[38;5;241m=\u001b[39m \u001b[38;5;28mgetattr\u001b[39m(msg, \u001b[38;5;124m'\u001b[39m\u001b[38;5;124m_write_headers\u001b[39m\u001b[38;5;124m'\u001b[39m, \u001b[38;5;28;01mNone\u001b[39;00m)\n\u001b[0;32m    197\u001b[0m \u001b[38;5;28;01mif\u001b[39;00m meth \u001b[38;5;129;01mis\u001b[39;00m \u001b[38;5;28;01mNone\u001b[39;00m:\n\u001b[1;32m--> 198\u001b[0m     \u001b[38;5;28;43mself\u001b[39;49m\u001b[38;5;241;43m.\u001b[39;49m\u001b[43m_write_headers\u001b[49m\u001b[43m(\u001b[49m\u001b[43mmsg\u001b[49m\u001b[43m)\u001b[49m\n\u001b[0;32m    199\u001b[0m \u001b[38;5;28;01melse\u001b[39;00m:\n\u001b[0;32m    200\u001b[0m     meth(\u001b[38;5;28mself\u001b[39m)\n",
      "File \u001b[1;32mc:\\Users\\pinki\\AppData\\Local\\Programs\\Python\\Python312\\Lib\\email\\generator.py:223\u001b[0m, in \u001b[0;36mGenerator._write_headers\u001b[1;34m(self, msg)\u001b[0m\n\u001b[0;32m    217\u001b[0m     meth(msg)\n\u001b[0;32m    219\u001b[0m \u001b[38;5;66;03m#\u001b[39;00m\n\u001b[0;32m    220\u001b[0m \u001b[38;5;66;03m# Default handlers\u001b[39;00m\n\u001b[0;32m    221\u001b[0m \u001b[38;5;66;03m#\u001b[39;00m\n\u001b[1;32m--> 223\u001b[0m \u001b[38;5;28;01mdef\u001b[39;00m \u001b[38;5;21m_write_headers\u001b[39m(\u001b[38;5;28mself\u001b[39m, msg):\n\u001b[0;32m    224\u001b[0m     \u001b[38;5;28;01mfor\u001b[39;00m h, v \u001b[38;5;129;01min\u001b[39;00m msg\u001b[38;5;241m.\u001b[39mraw_items():\n\u001b[0;32m    225\u001b[0m         \u001b[38;5;28mself\u001b[39m\u001b[38;5;241m.\u001b[39mwrite(\u001b[38;5;28mself\u001b[39m\u001b[38;5;241m.\u001b[39mpolicy\u001b[38;5;241m.\u001b[39mfold(h, v))\n",
      "\u001b[1;31mKeyboardInterrupt\u001b[0m: "
     ]
    }
   ],
   "source": [
    "import smtplib, ssl\n",
    "from email.mime.multipart import MIMEMultipart\n",
    "from email.mime.base import MIMEBase\n",
    "from email.mime.text import MIMEText\n",
    "from email import encoders\n",
    "import plotly.graph_objects as go\n",
    "import datetime\n",
    "import pandas as pd\n",
    "\n",
    "# Filter anomalies for washing machine\n",
    "df_anoms_wm = df1[df1['wm_zscore'] > 3]\n",
    "\n",
    "for i in df_anoms_wm['Date']:\n",
    "    print(f\"\\nProcessing date: {i}\")\n",
    "\n",
    "    try:\n",
    "        df_anoms_temp = df_anoms_wm[df_anoms_wm['Date'] == i].reset_index(drop=True)\n",
    "        df_all_temp = df1[df1['Date'] <= i + datetime.timedelta(days=1)].reset_index(drop=True)\n",
    "\n",
    "        if df_anoms_temp.empty or df_all_temp.empty:\n",
    "            print(f\"Empty data on {i}, skipping.\")\n",
    "            continue\n",
    "\n",
    "        if df_all_temp['Washing Machine'].isnull().any():\n",
    "            print(f\"NaN values detected for {i}, skipping.\")\n",
    "            continue\n",
    "\n",
    "        # Create plot\n",
    "        fig = go.Figure()\n",
    "        fig.add_trace(go.Scatter(x=df_all_temp['Date'], y=df_all_temp['Washing Machine'], mode='lines', name='Actual Consumption'))\n",
    "        fig.add_trace(go.Scatter(x=df_anoms_temp['Date'], y=df_anoms_temp['Washing Machine'], mode='markers', name='High Fluctuations'))\n",
    "        fig.update_traces(marker=dict(size=5, line=dict(width=5, color='red')))\n",
    "\n",
    "        # Save as HTML (bypasses Kaleido)\n",
    "        i_str = pd.to_datetime(i).strftime('%Y-%m-%d')\n",
    "        filename = f'output_file_{i_str}.html'\n",
    "        fig.write_html(filename)\n",
    "        print(f\"Plot saved as {filename}\")\n",
    "\n",
    "        # Prepare email\n",
    "        SUBJECT = f\"Possible Detection of Faulty Device - Dated: {i_str}\"\n",
    "        msg = MIMEMultipart()\n",
    "        msg['Subject'] = SUBJECT\n",
    "        msg['From'] = 'freepinki2002@gmail.com'\n",
    "        msg['To'] = 'pinkikri4079@gmail.com'\n",
    "\n",
    "        body = \"WattWise has detected a possible faulty device. This can cause a power outage/trip/excessive electricity consumption.\"\n",
    "        msg.attach(MIMEText(body, 'plain'))\n",
    "\n",
    "        with open(filename, \"rb\") as attachment:\n",
    "            part = MIMEBase('application', \"octet-stream\")\n",
    "            part.set_payload(attachment.read())\n",
    "            encoders.encode_base64(part)\n",
    "            part.add_header('Content-Disposition', f\"attachment; filename={filename}\")\n",
    "            msg.attach(part)\n",
    "\n",
    "        # Send email\n",
    "        context = ssl.create_default_context()\n",
    "        with smtplib.SMTP('smtp.gmail.com', 587, timeout=60) as server:\n",
    "            server.ehlo()\n",
    "            server.starttls(context=context)\n",
    "            server.login(msg['From'], 'iqgq vblb hzyr potx')  # App password\n",
    "            server.sendmail(msg['From'], msg['To'], msg.as_string())\n",
    "\n",
    "        print(f\"📧 Email sent successfully for Date: {i_str}\")\n",
    "\n",
    "    except Exception as e:\n",
    "        print(f\"Error on {i}: {e}\")\n"
   ]
  }
 ],
 "metadata": {
  "kernelspec": {
   "display_name": "Python 3",
   "language": "python",
   "name": "python3"
  },
  "language_info": {
   "codemirror_mode": {
    "name": "ipython",
    "version": 3
   },
   "file_extension": ".py",
   "mimetype": "text/x-python",
   "name": "python",
   "nbconvert_exporter": "python",
   "pygments_lexer": "ipython3",
   "version": "3.12.3"
  }
 },
 "nbformat": 4,
 "nbformat_minor": 5
}
